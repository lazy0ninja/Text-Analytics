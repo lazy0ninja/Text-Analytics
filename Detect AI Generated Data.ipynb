{
 "cells": [
  {
   "cell_type": "code",
   "execution_count": 2,
   "metadata": {},
   "outputs": [],
   "source": [
    "import numpy as np \n",
    "import pandas as pd\n",
    "\n",
    "import matplotlib.pyplot as plt\n",
    "import matplotlib as mpl"
   ]
  },
  {
   "cell_type": "code",
   "execution_count": 3,
   "metadata": {},
   "outputs": [
    {
     "name": "stdout",
     "output_type": "stream",
     "text": [
      "human Percentage = 99.7822931785196 %\n",
      "ai Percentage = 0.21770682148040638 %\n"
     ]
    }
   ],
   "source": [
    "df = pd.read_csv(\"train_essays.csv\") \n",
    "new_train = pd.read_csv(\"train_drcat_02.csv\")\n",
    "human=df[df['generated']==0]\n",
    "ai=df[df['generated']==1]\n",
    "\n",
    "print('human Percentage =',(len(human)/len(df))*100,'%')\n",
    "\n",
    "print('ai Percentage =',(len(ai)/len(df))*100,'%')"
   ]
  },
  {
   "cell_type": "code",
   "execution_count": 4,
   "metadata": {},
   "outputs": [],
   "source": [
    "new_train.drop_duplicates('text', inplace=True)"
   ]
  },
  {
   "cell_type": "code",
   "execution_count": 5,
   "metadata": {},
   "outputs": [
    {
     "data": {
      "text/html": [
       "<div>\n",
       "<style scoped>\n",
       "    .dataframe tbody tr th:only-of-type {\n",
       "        vertical-align: middle;\n",
       "    }\n",
       "\n",
       "    .dataframe tbody tr th {\n",
       "        vertical-align: top;\n",
       "    }\n",
       "\n",
       "    .dataframe thead th {\n",
       "        text-align: right;\n",
       "    }\n",
       "</style>\n",
       "<table border=\"1\" class=\"dataframe\">\n",
       "  <thead>\n",
       "    <tr style=\"text-align: right;\">\n",
       "      <th></th>\n",
       "      <th>text</th>\n",
       "      <th>generated</th>\n",
       "    </tr>\n",
       "  </thead>\n",
       "  <tbody>\n",
       "    <tr>\n",
       "      <th>0</th>\n",
       "      <td>Okay, here is my essay:\\n\\nWorking or doing th...</td>\n",
       "      <td>1</td>\n",
       "    </tr>\n",
       "    <tr>\n",
       "      <th>3</th>\n",
       "      <td>One example of an inspiring individual who has...</td>\n",
       "      <td>1</td>\n",
       "    </tr>\n",
       "    <tr>\n",
       "      <th>6</th>\n",
       "      <td>\"As a high school student, I have witnessed th...</td>\n",
       "      <td>1</td>\n",
       "    </tr>\n",
       "    <tr>\n",
       "      <th>11</th>\n",
       "      <td>Video games have been a popular form of entert...</td>\n",
       "      <td>1</td>\n",
       "    </tr>\n",
       "    <tr>\n",
       "      <th>13</th>\n",
       "      <td>Group work is an essential part of life; it ca...</td>\n",
       "      <td>1</td>\n",
       "    </tr>\n",
       "    <tr>\n",
       "      <th>...</th>\n",
       "      <td>...</td>\n",
       "      <td>...</td>\n",
       "    </tr>\n",
       "    <tr>\n",
       "      <th>39767</th>\n",
       "      <td>Sure thing! Here's my attempt at writing an es...</td>\n",
       "      <td>1</td>\n",
       "    </tr>\n",
       "    <tr>\n",
       "      <th>39770</th>\n",
       "      <td>I think our principal's idea of making us do e...</td>\n",
       "      <td>1</td>\n",
       "    </tr>\n",
       "    <tr>\n",
       "      <th>39771</th>\n",
       "      <td>I think it's a good idea for schools to have o...</td>\n",
       "      <td>1</td>\n",
       "    </tr>\n",
       "    <tr>\n",
       "      <th>39778</th>\n",
       "      <td>Advantages of Limiting Car Usage\\n\\nLimiting c...</td>\n",
       "      <td>1</td>\n",
       "    </tr>\n",
       "    <tr>\n",
       "      <th>39782</th>\n",
       "      <td>The Face on Mars is a fascinating phenomenon t...</td>\n",
       "      <td>1</td>\n",
       "    </tr>\n",
       "  </tbody>\n",
       "</table>\n",
       "<p>9993 rows × 2 columns</p>\n",
       "</div>"
      ],
      "text/plain": [
       "                                                    text  generated\n",
       "0      Okay, here is my essay:\\n\\nWorking or doing th...          1\n",
       "3      One example of an inspiring individual who has...          1\n",
       "6      \"As a high school student, I have witnessed th...          1\n",
       "11     Video games have been a popular form of entert...          1\n",
       "13     Group work is an essential part of life; it ca...          1\n",
       "...                                                  ...        ...\n",
       "39767  Sure thing! Here's my attempt at writing an es...          1\n",
       "39770  I think our principal's idea of making us do e...          1\n",
       "39771  I think it's a good idea for schools to have o...          1\n",
       "39778  Advantages of Limiting Car Usage\\n\\nLimiting c...          1\n",
       "39782  The Face on Mars is a fascinating phenomenon t...          1\n",
       "\n",
       "[9993 rows x 2 columns]"
      ]
     },
     "execution_count": 5,
     "metadata": {},
     "output_type": "execute_result"
    }
   ],
   "source": [
    "org_train = df[[\"text\", \"generated\"]]\n",
    "positive = new_train.loc[new_train['label'] == 1][[\"text\", \"label\"]]\n",
    "positive = positive.rename(columns={\"text\": \"text\", \"label\": \"generated\"})\n",
    "positive"
   ]
  },
  {
   "cell_type": "code",
   "execution_count": 6,
   "metadata": {},
   "outputs": [
    {
     "data": {
      "text/html": [
       "<div>\n",
       "<style scoped>\n",
       "    .dataframe tbody tr th:only-of-type {\n",
       "        vertical-align: middle;\n",
       "    }\n",
       "\n",
       "    .dataframe tbody tr th {\n",
       "        vertical-align: top;\n",
       "    }\n",
       "\n",
       "    .dataframe thead th {\n",
       "        text-align: right;\n",
       "    }\n",
       "</style>\n",
       "<table border=\"1\" class=\"dataframe\">\n",
       "  <thead>\n",
       "    <tr style=\"text-align: right;\">\n",
       "      <th></th>\n",
       "      <th>text</th>\n",
       "      <th>generated</th>\n",
       "    </tr>\n",
       "  </thead>\n",
       "  <tbody>\n",
       "    <tr>\n",
       "      <th>1</th>\n",
       "      <td>Dear Principal,\\r\\n\\r\\nI just want to let you ...</td>\n",
       "      <td>0</td>\n",
       "    </tr>\n",
       "    <tr>\n",
       "      <th>2</th>\n",
       "      <td>I believe they should change the voting to pop...</td>\n",
       "      <td>0</td>\n",
       "    </tr>\n",
       "    <tr>\n",
       "      <th>4</th>\n",
       "      <td>Dear Mr. Principal,\\n\\nI believe that students...</td>\n",
       "      <td>0</td>\n",
       "    </tr>\n",
       "    <tr>\n",
       "      <th>5</th>\n",
       "      <td>I think that this image of this face is very n...</td>\n",
       "      <td>0</td>\n",
       "    </tr>\n",
       "    <tr>\n",
       "      <th>7</th>\n",
       "      <td>Dear Principle,\\n\\nI sincerely hope you will n...</td>\n",
       "      <td>0</td>\n",
       "    </tr>\n",
       "    <tr>\n",
       "      <th>...</th>\n",
       "      <td>...</td>\n",
       "      <td>...</td>\n",
       "    </tr>\n",
       "    <tr>\n",
       "      <th>39779</th>\n",
       "      <td>Are driverless cars really necessary? Most of ...</td>\n",
       "      <td>0</td>\n",
       "    </tr>\n",
       "    <tr>\n",
       "      <th>39780</th>\n",
       "      <td>\"Oh man I didn't make the soccer team!\", yelle...</td>\n",
       "      <td>0</td>\n",
       "    </tr>\n",
       "    <tr>\n",
       "      <th>39781</th>\n",
       "      <td>I believe that using this technology could be ...</td>\n",
       "      <td>0</td>\n",
       "    </tr>\n",
       "    <tr>\n",
       "      <th>39783</th>\n",
       "      <td>Texting &amp; Driving\\n\\nUsing your phone while dr...</td>\n",
       "      <td>0</td>\n",
       "    </tr>\n",
       "    <tr>\n",
       "      <th>39784</th>\n",
       "      <td>Dear Principal,\\n\\nI have been really good thi...</td>\n",
       "      <td>0</td>\n",
       "    </tr>\n",
       "  </tbody>\n",
       "</table>\n",
       "<p>29741 rows × 2 columns</p>\n",
       "</div>"
      ],
      "text/plain": [
       "                                                    text  generated\n",
       "1      Dear Principal,\\r\\n\\r\\nI just want to let you ...          0\n",
       "2      I believe they should change the voting to pop...          0\n",
       "4      Dear Mr. Principal,\\n\\nI believe that students...          0\n",
       "5      I think that this image of this face is very n...          0\n",
       "7      Dear Principle,\\n\\nI sincerely hope you will n...          0\n",
       "...                                                  ...        ...\n",
       "39779  Are driverless cars really necessary? Most of ...          0\n",
       "39780  \"Oh man I didn't make the soccer team!\", yelle...          0\n",
       "39781  I believe that using this technology could be ...          0\n",
       "39783  Texting & Driving\\n\\nUsing your phone while dr...          0\n",
       "39784  Dear Principal,\\n\\nI have been really good thi...          0\n",
       "\n",
       "[29741 rows x 2 columns]"
      ]
     },
     "execution_count": 6,
     "metadata": {},
     "output_type": "execute_result"
    }
   ],
   "source": [
    "negative = new_train.loc[new_train['label'] == 0][[\"text\", \"label\"]]\n",
    "negative = negative.rename(columns={\"text\": \"text\", \"label\": \"generated\"})\n",
    "negative"
   ]
  },
  {
   "cell_type": "code",
   "execution_count": 7,
   "metadata": {},
   "outputs": [
    {
     "data": {
      "image/png": "[encoded data removed]",
      "text/plain": [
       "<Figure size 640x480 with 1 Axes>"
      ]
     },
     "metadata": {},
     "output_type": "display_data"
    }
   ],
   "source": [
    "data = pd.concat([org_train, positive, negative.sample(8618)])\n",
    "data = data.sample(frac=1).reset_index(drop=True)\n",
    "data['generated'].value_counts().plot.pie();"
   ]
  },
  {
   "cell_type": "code",
   "execution_count": 8,
   "metadata": {},
   "outputs": [
    {
     "data": {
      "text/plain": [
       "(19989, 2)"
      ]
     },
     "execution_count": 8,
     "metadata": {},
     "output_type": "execute_result"
    }
   ],
   "source": [
    "data.shape"
   ]
  },
  {
   "cell_type": "markdown",
   "metadata": {},
   "source": [
    "1. multinomial NB"
   ]
  },
  {
   "cell_type": "code",
   "execution_count": 9,
   "metadata": {},
   "outputs": [
    {
     "data": {
      "text/plain": [
       "<Axes: >"
      ]
     },
     "execution_count": 9,
     "metadata": {},
     "output_type": "execute_result"
    },
    {
     "data": {
      "image/png": "[encoded data removed]",
      "text/plain": [
       "<Figure size 640x480 with 2 Axes>"
      ]
     },
     "metadata": {},
     "output_type": "display_data"
    }
   ],
   "source": [
    "# set random seed\n",
    "np.random.seed(0)\n",
    "from sklearn.feature_extraction.text import CountVectorizer\n",
    "\n",
    "from sklearn.naive_bayes import MultinomialNB\n",
    "\n",
    "from sklearn.metrics import classification_report,confusion_matrix\n",
    "import seaborn as sns\n",
    "\n",
    "vectorizer=CountVectorizer()\n",
    "#you can also try tfidf vectorizer\n",
    "ai_countVectorizer=vectorizer.fit_transform(data['text'])\n",
    "\n",
    "X=ai_countVectorizer\n",
    "y=data['generated']\n",
    "\n",
    "from sklearn.model_selection import train_test_split\n",
    "X_train, X_test, y_train, y_test = train_test_split(X, y, test_size=0.2, random_state=42,stratify=y)\n",
    "\n",
    "NB_classifier=MultinomialNB()\n",
    "NB_classifier.fit(X_train,y_train)\n",
    "\n",
    "y_predict_train=NB_classifier.predict(X_train)\n",
    "cm=confusion_matrix(y_train,y_predict_train)\n",
    "\n",
    "sns.heatmap(cm,annot=True)\n"
   ]
  },
  {
   "cell_type": "code",
   "execution_count": 10,
   "metadata": {},
   "outputs": [
    {
     "name": "stdout",
     "output_type": "stream",
     "text": [
      "train accuracy = 0.9670439622287537\n"
     ]
    }
   ],
   "source": [
    "# train accuracy\n",
    "from sklearn.metrics import accuracy_score\n",
    "accuracy_train=accuracy_score(y_train,y_predict_train)\n",
    "print('train accuracy =',accuracy_train)"
   ]
  },
  {
   "cell_type": "code",
   "execution_count": 11,
   "metadata": {},
   "outputs": [
    {
     "name": "stdout",
     "output_type": "stream",
     "text": [
      "train recall = 0.9616106039764912\n"
     ]
    }
   ],
   "source": [
    "#recall rate\n",
    "from sklearn.metrics import recall_score\n",
    "recall_train=recall_score(y_train,y_predict_train)\n",
    "print('train recall =',recall_train)"
   ]
  },
  {
   "cell_type": "code",
   "execution_count": 12,
   "metadata": {},
   "outputs": [
    {
     "name": "stdout",
     "output_type": "stream",
     "text": [
      "[1 1 0 ... 1 0 1]\n",
      "              precision    recall  f1-score   support\n",
      "\n",
      "           0       0.96      0.97      0.97      1999\n",
      "           1       0.97      0.96      0.97      1999\n",
      "\n",
      "    accuracy                           0.97      3998\n",
      "   macro avg       0.97      0.97      0.97      3998\n",
      "weighted avg       0.97      0.97      0.97      3998\n",
      "\n"
     ]
    },
    {
     "data": {
      "image/png": "[encoded data removed]",
      "text/plain": [
       "<Figure size 640x480 with 2 Axes>"
      ]
     },
     "metadata": {},
     "output_type": "display_data"
    }
   ],
   "source": [
    "\n",
    "\n",
    "y_predict_test=NB_classifier.predict(X_test)\n",
    "print (y_predict_test)\n",
    "\n",
    "cm=confusion_matrix(y_test,y_predict_test)\n",
    "\n",
    "\n",
    "sns.heatmap(cm,annot=True)\n",
    "\n",
    "print(classification_report(y_test,y_predict_test))\n"
   ]
  },
  {
   "cell_type": "code",
   "execution_count": 13,
   "metadata": {},
   "outputs": [
    {
     "name": "stdout",
     "output_type": "stream",
     "text": [
      "test accuracy = 0.9654827413706853\n"
     ]
    }
   ],
   "source": [
    "test_accuracy=accuracy_score(y_test,y_predict_test)\n",
    "print('test accuracy =',test_accuracy)"
   ]
  },
  {
   "cell_type": "code",
   "execution_count": 14,
   "metadata": {},
   "outputs": [
    {
     "name": "stdout",
     "output_type": "stream",
     "text": [
      "Accuracy: 0.9307153576788394\n"
     ]
    }
   ],
   "source": [
    "import numpy as np\n",
    "from sklearn.feature_extraction.text import TfidfVectorizer\n",
    "from sklearn.metrics.pairwise import cosine_similarity\n",
    "from sklearn.model_selection import train_test_split\n",
    "from sklearn.naive_bayes import MultinomialNB\n",
    "from sklearn.metrics import accuracy_score\n",
    "from scipy.spatial import distance\n",
    "from nltk.corpus import stopwords\n",
    "from nltk.tokenize import word_tokenize\n",
    "from nltk.stem import WordNetLemmatizer\n",
    "import string\n",
    "\n",
    "def preprocess(text):\n",
    "    stop_words = set(stopwords.words('english'))\n",
    "    lemmatizer = WordNetLemmatizer()\n",
    "    # Tokenize\n",
    "    tokens = word_tokenize(text)\n",
    "    # Remove punctuation and stop words, and lemmatize\n",
    "    tokens = [lemmatizer.lemmatize(word.lower()) for word in tokens if word not in string.punctuation and word.lower() not in stop_words]\n",
    "    return ' '.join(tokens)\n",
    "\n",
    "documents_preprocessed = [preprocess(doc) for doc in data['text']]\n",
    "\n",
    "\n",
    "vectorizer = TfidfVectorizer()\n",
    "tfidf_matrix = vectorizer.fit_transform(documents_preprocessed)\n",
    "\n",
    "\n",
    "X_train, X_test, y_train, y_test = train_test_split(tfidf_matrix, data['generated'], test_size=0.2, random_state=42)\n",
    "\n",
    "clf = MultinomialNB()\n",
    "clf.fit(X_train, y_train)\n",
    "\n",
    "# Predict on test data\n",
    "predictions = clf.predict(X_test)\n",
    "\n",
    "# Calculate accuracy\n",
    "accuracy = accuracy_score(y_test, predictions)\n",
    "print(f'Accuracy: {accuracy}')"
   ]
  },
  {
   "cell_type": "code",
   "execution_count": 16,
   "metadata": {},
   "outputs": [
    {
     "name": "stdout",
     "output_type": "stream",
     "text": [
      "Accuracy: 0.9462231115557779\n"
     ]
    }
   ],
   "source": [
    "import numpy as np\n",
    "from sklearn.feature_extraction.text import TfidfVectorizer\n",
    "from sklearn.metrics.pairwise import cosine_similarity\n",
    "from sklearn.model_selection import train_test_split\n",
    "from sklearn.naive_bayes import MultinomialNB\n",
    "from sklearn.metrics import accuracy_score\n",
    "from scipy.spatial import distance\n",
    "from nltk.corpus import stopwords\n",
    "from nltk.tokenize import word_tokenize\n",
    "from nltk.stem import WordNetLemmatizer\n",
    "import string\n",
    "\n",
    "\n",
    "# Compute TF-IDF\n",
    "vectorizer = TfidfVectorizer()\n",
    "tfidf_matrix = vectorizer.fit_transform(data['text'])\n",
    "\n",
    "# Split data for training and testing\n",
    "X_train, X_test, y_train, y_test = train_test_split(tfidf_matrix, data['generated'], test_size=0.2, random_state=42)\n",
    "\n",
    "# Train Multinomial Naive Bayes classifier\n",
    "clf = MultinomialNB()\n",
    "clf.fit(X_train, y_train)\n",
    "\n",
    "# Predict on test data\n",
    "predictions = clf.predict(X_test)\n",
    "\n",
    "# Calculate accuracy\n",
    "accuracy = accuracy_score(y_test, predictions)\n",
    "print(f'Accuracy: {accuracy}')"
   ]
  },
  {
   "cell_type": "code",
   "execution_count": 9,
   "metadata": {},
   "outputs": [],
   "source": [
    "# set random seed\n",
    "np.random.seed(0)\n",
    "\n",
    "from sklearn.naive_bayes import MultinomialNB\n",
    "\n",
    "from sklearn.metrics import classification_report,confusion_matrix\n",
    "import seaborn as sns\n",
    "from sklearn.feature_extraction.text import TfidfVectorizer\n",
    "\n",
    "vectorizer=TfidfVectorizer()\n",
    "ai_countVectorizer=vectorizer.fit_transform(data['text'])\n",
    "\n",
    "X=ai_countVectorizer\n",
    "y=data['generated']\n",
    "\n",
    "from sklearn.model_selection import train_test_split\n",
    "X_train, X_test, y_train, y_test = train_test_split(X, y, test_size=0.2, random_state=42,stratify=y)"
   ]
  },
  {
   "cell_type": "code",
   "execution_count": 18,
   "metadata": {},
   "outputs": [
    {
     "name": "stdout",
     "output_type": "stream",
     "text": [
      "Fitting 2 folds for each of 8 candidates, totalling 16 fits\n",
      "[CV 1/2; 3/8] START alpha=0.001.................................................\n",
      "[CV 2/2; 4/8] START alpha=0.01..................................................\n",
      "[CV 2/2; 1/8] START alpha=0.0001................................................\n",
      "[CV 1/2; 2/8] START alpha=0.005.................................................\n",
      "[CV 1/2; 4/8] START alpha=0.01..................................................\n",
      "[CV 1/2; 1/8] START alpha=0.0001................................................\n",
      "[CV 2/2; 3/8] START alpha=0.001.................................................\n",
      "[CV 2/2; 2/8] START alpha=0.005.................................................\n",
      "[CV 2/2; 4/8] END ...................alpha=0.01;, score=0.957 total time=   0.1s\n",
      "[CV 2/2; 3/8] END ..................alpha=0.001;, score=0.959 total time=   0.1s\n",
      "[CV 1/2; 2/8] END ..................alpha=0.005;, score=0.951 total time=   0.1s\n",
      "[CV 1/2; 3/8] END ..................alpha=0.001;, score=0.953 total time=   0.1s\n",
      "[CV 2/2; 1/8] END .................alpha=0.0001;, score=0.961 total time=   0.1s\n",
      "[CV 2/2; 2/8] END ..................alpha=0.005;, score=0.957 total time=   0.1s\n",
      "[CV 1/2; 4/8] END ...................alpha=0.01;, score=0.949 total time=   0.1s\n",
      "[CV 1/2; 1/8] END .................alpha=0.0001;, score=0.955 total time=   0.1s\n",
      "[CV 1/2; 5/8] START alpha=0.1...................................................\n",
      "[CV 2/2; 5/8] START alpha=0.1...................................................\n",
      "[CV 1/2; 6/8] START alpha=1.....................................................\n",
      "[CV 2/2; 6/8] START alpha=1.....................................................\n",
      "[CV 1/2; 7/8] START alpha=10....................................................\n",
      "[CV 2/2; 7/8] START alpha=10....................................................\n",
      "[CV 1/2; 8/8] START alpha=100...................................................\n",
      "[CV 2/2; 8/8] START alpha=100...................................................\n",
      "[CV 1/2; 5/8] END ....................alpha=0.1;, score=0.945 total time=   0.1s\n",
      "[CV 1/2; 7/8] END .....................alpha=10;, score=0.909 total time=   0.1s\n",
      "[CV 2/2; 6/8] END ......................alpha=1;, score=0.949 total time=   0.1s\n",
      "[CV 2/2; 5/8] END ....................alpha=0.1;, score=0.954 total time=   0.1s\n",
      "[CV 1/2; 6/8] END ......................alpha=1;, score=0.941 total time=   0.1s\n",
      "[CV 2/2; 7/8] END .....................alpha=10;, score=0.917 total time=   0.1s\n",
      "[CV 1/2; 8/8] END ....................alpha=100;, score=0.817 total time=   0.1s\n",
      "[CV 2/2; 8/8] END ....................alpha=100;, score=0.825 total time=   0.1s\n",
      "Best score: 0.958\n",
      "Best parameters set:\n",
      "\talpha: 0.0001\n"
     ]
    }
   ],
   "source": [
    "nb_model = MultinomialNB()\n",
    "\n",
    "\n",
    "# parameter grid\n",
    "param_grid = {'alpha': [0.0001, 0.005, 0.001, 0.01, 0.1, 1, 10, 100]}\n",
    "# import grid search\n",
    "from sklearn.model_selection import GridSearchCV\n",
    "\n",
    "# Initialize Grid Search Model\n",
    "model = GridSearchCV(estimator=nb_model, param_grid=param_grid, scoring='f1',\n",
    "                                 verbose=10, n_jobs=-1, refit=True, cv=2)\n",
    "\n",
    "# Fit Grid Search Model\n",
    "model.fit(X_train,y_train)  # we can use the full data here but im only using xtrain. \n",
    "print(\"Best score: %0.3f\" % model.best_score_)\n",
    "print(\"Best parameters set:\")\n",
    "best_parameters = model.best_estimator_.get_params()\n",
    "for param_name in sorted(param_grid.keys()):\n",
    "    print(\"\\t%s: %r\" % (param_name, best_parameters[param_name]))"
   ]
  },
  {
   "cell_type": "code",
   "execution_count": 30,
   "metadata": {},
   "outputs": [
    {
     "name": "stdout",
     "output_type": "stream",
     "text": [
      "Accuracy: 0.9587293646823412\n"
     ]
    }
   ],
   "source": [
    "best_modelnb = MultinomialNB(alpha=0.0001)\n",
    "best_modelnb.fit(X_train, y_train)\n",
    "predictions = best_modelnb.predict(X_test)\n",
    "\n",
    "# Calculate accuracy\n",
    "accuracy = accuracy_score(y_test, predictions)\n",
    "print(f'Accuracy: {accuracy}')"
   ]
  },
  {
   "cell_type": "code",
   "execution_count": 22,
   "metadata": {},
   "outputs": [
    {
     "name": "stdout",
     "output_type": "stream",
     "text": [
      "Accuracy: 0.9867433716858429\n"
     ]
    }
   ],
   "source": [
    "# logistic regression\n",
    "#set random seed\n",
    "np.random.seed(0)\n",
    "from sklearn.linear_model import LogisticRegression\n",
    "from sklearn.model_selection import GridSearchCV\n",
    "from sklearn.metrics import accuracy_score, confusion_matrix, classification_report\n",
    "\n",
    "# Initialize Logistic Regression Model\n",
    "logreg_model = LogisticRegression(C=1.0, class_weight=None, dual=False, fit_intercept=True)\n",
    "logreg_model.fit(X_train, y_train)\n",
    "predictions = logreg_model.predict(X_test)\n",
    "\n",
    "# Calculate accuracy\n",
    "accuracy = accuracy_score(y_test, predictions)\n",
    "print(f'Accuracy: {accuracy}')"
   ]
  },
  {
   "cell_type": "code",
   "execution_count": 23,
   "metadata": {},
   "outputs": [
    {
     "name": "stdout",
     "output_type": "stream",
     "text": [
      "[[1974   25]\n",
      " [  28 1971]]\n"
     ]
    }
   ],
   "source": [
    "# print confusion matrix\n",
    "print(confusion_matrix(y_test, predictions))"
   ]
  },
  {
   "cell_type": "code",
   "execution_count": 24,
   "metadata": {},
   "outputs": [
    {
     "name": "stdout",
     "output_type": "stream",
     "text": [
      "Fitting 10 folds for each of 7 candidates, totalling 70 fits\n",
      "[CV 2/10; 1/7] START C=0.001....................................................\n",
      "[CV 4/10; 1/7] START C=0.001....................................................[CV 1/10; 1/7] START C=0.001....................................................\n",
      "\n",
      "[CV 5/10; 1/7] START C=0.001....................................................\n",
      "[CV 3/10; 1/7] START C=0.001....................................................\n",
      "[CV 7/10; 1/7] START C=0.001....................................................\n",
      "[CV 6/10; 1/7] START C=0.001....................................................\n",
      "[CV 8/10; 1/7] START C=0.001....................................................\n",
      "[CV 2/10; 1/7] END .....................C=0.001;, score=0.917 total time=   0.7s\n",
      "[CV 9/10; 1/7] START C=0.001....................................................\n",
      "[CV 8/10; 1/7] END .....................C=0.001;, score=0.917 total time=   0.7s\n",
      "[CV 10/10; 1/7] START C=0.001...................................................\n",
      "[CV 7/10; 1/7] END .....................C=0.001;, score=0.937 total time=   0.8s\n",
      "[CV 6/10; 1/7] END .....................C=0.001;, score=0.919 total time=   0.8s\n",
      "[CV 1/10; 1/7] END .....................C=0.001;, score=0.919 total time=   0.8s\n",
      "[CV 1/10; 2/7] START C=0.01.....................................................\n",
      "[CV 2/10; 2/7] START C=0.01.....................................................\n",
      "[CV 3/10; 2/7] START C=0.01.....................................................\n",
      "[CV 3/10; 1/7] END .....................C=0.001;, score=0.920 total time=   0.9s\n",
      "[CV 4/10; 2/7] START C=0.01.....................................................\n",
      "[CV 4/10; 1/7] END .....................C=0.001;, score=0.917 total time=   1.0s\n",
      "[CV 5/10; 1/7] END .....................C=0.001;, score=0.919 total time=   1.0s\n",
      "[CV 5/10; 2/7] START C=0.01.....................................................\n",
      "[CV 6/10; 2/7] START C=0.01.....................................................\n",
      "[CV 9/10; 1/7] END .....................C=0.001;, score=0.915 total time=   0.6s\n",
      "[CV 7/10; 2/7] START C=0.01.....................................................\n",
      "[CV 10/10; 1/7] END ....................C=0.001;, score=0.918 total time=   0.6s\n",
      "[CV 8/10; 2/7] START C=0.01.....................................................\n",
      "[CV 2/10; 2/7] END ......................C=0.01;, score=0.930 total time=   0.7s\n",
      "[CV 9/10; 2/7] START C=0.01.....................................................\n",
      "[CV 4/10; 2/7] END ......................C=0.01;, score=0.932 total time=   0.7s\n",
      "[CV 10/10; 2/7] START C=0.01....................................................\n",
      "[CV 1/10; 2/7] END ......................C=0.01;, score=0.931 total time=   0.8s\n",
      "[CV 1/10; 3/7] START C=0.1......................................................\n",
      "[CV 3/10; 2/7] END ......................C=0.01;, score=0.937 total time=   0.8s\n",
      "[CV 2/10; 3/7] START C=0.1......................................................\n",
      "[CV 5/10; 2/7] END ......................C=0.01;, score=0.929 total time=   0.7s\n",
      "[CV 3/10; 3/7] START C=0.1......................................................\n",
      "[CV 6/10; 2/7] END ......................C=0.01;, score=0.934 total time=   0.7s\n",
      "[CV 4/10; 3/7] START C=0.1......................................................\n",
      "[CV 7/10; 2/7] END ......................C=0.01;, score=0.949 total time=   0.7s\n",
      "[CV 5/10; 3/7] START C=0.1......................................................\n",
      "[CV 8/10; 2/7] END ......................C=0.01;, score=0.935 total time=   0.7s\n",
      "[CV 6/10; 3/7] START C=0.1......................................................\n",
      "[CV 10/10; 2/7] END .....................C=0.01;, score=0.929 total time=   0.7s\n",
      "[CV 9/10; 2/7] END ......................C=0.01;, score=0.929 total time=   0.8s\n",
      "[CV 7/10; 3/7] START C=0.1......................................................\n",
      "[CV 8/10; 3/7] START C=0.1......................................................\n",
      "[CV 2/10; 3/7] END .......................C=0.1;, score=0.964 total time=   1.2s\n",
      "[CV 9/10; 3/7] START C=0.1......................................................\n",
      "[CV 4/10; 3/7] END .......................C=0.1;, score=0.966 total time=   1.4s\n",
      "[CV 10/10; 3/7] START C=0.1.....................................................\n",
      "[CV 3/10; 3/7] END .......................C=0.1;, score=0.968 total time=   1.5s\n",
      "[CV 1/10; 4/7] START C=1........................................................\n",
      "[CV 1/10; 3/7] END .......................C=0.1;, score=0.967 total time=   1.7s\n",
      "[CV 2/10; 4/7] START C=1........................................................\n",
      "[CV 6/10; 3/7] END .......................C=0.1;, score=0.964 total time=   1.3s\n",
      "[CV 3/10; 4/7] START C=1........................................................\n",
      "[CV 5/10; 3/7] END .......................C=0.1;, score=0.964 total time=   1.5s\n",
      "[CV 4/10; 4/7] START C=1........................................................\n",
      "[CV 7/10; 3/7] END .......................C=0.1;, score=0.978 total time=   1.4s\n",
      "[CV 8/10; 3/7] END .......................C=0.1;, score=0.965 total time=   1.4s\n",
      "[CV 5/10; 4/7] START C=1........................................................\n",
      "[CV 6/10; 4/7] START C=1........................................................\n",
      "[CV 9/10; 3/7] END .......................C=0.1;, score=0.965 total time=   1.5s\n",
      "[CV 7/10; 4/7] START C=1........................................................\n",
      "[CV 10/10; 3/7] END ......................C=0.1;, score=0.967 total time=   1.7s\n",
      "[CV 8/10; 4/7] START C=1........................................................\n",
      "[CV 4/10; 4/7] END .........................C=1;, score=0.984 total time=   1.8s\n",
      "[CV 9/10; 4/7] START C=1........................................................\n",
      "[CV 1/10; 4/7] END .........................C=1;, score=0.991 total time=   2.3s\n",
      "[CV 10/10; 4/7] START C=1.......................................................\n",
      "[CV 2/10; 4/7] END .........................C=1;, score=0.986 total time=   2.2s\n",
      "[CV 1/10; 5/7] START C=10.......................................................\n",
      "[CV 6/10; 4/7] END .........................C=1;, score=0.988 total time=   2.0s\n",
      "[CV 2/10; 5/7] START C=10.......................................................\n",
      "[CV 3/10; 4/7] END .........................C=1;, score=0.988 total time=   2.5s\n",
      "[CV 3/10; 5/7] START C=10.......................................................\n",
      "[CV 5/10; 4/7] END .........................C=1;, score=0.983 total time=   2.1s\n",
      "[CV 4/10; 5/7] START C=10.......................................................\n",
      "[CV 7/10; 4/7] END .........................C=1;, score=0.990 total time=   2.2s\n",
      "[CV 5/10; 5/7] START C=10.......................................................\n",
      "[CV 8/10; 4/7] END .........................C=1;, score=0.982 total time=   2.1s\n",
      "[CV 6/10; 5/7] START C=10.......................................................\n",
      "[CV 9/10; 4/7] END .........................C=1;, score=0.989 total time=   2.0s\n",
      "[CV 7/10; 5/7] START C=10.......................................................\n",
      "[CV 10/10; 4/7] END ........................C=1;, score=0.987 total time=   2.1s\n",
      "[CV 8/10; 5/7] START C=10.......................................................\n",
      "[CV 1/10; 5/7] END ........................C=10;, score=0.996 total time=   3.2s\n",
      "[CV 9/10; 5/7] START C=10.......................................................\n",
      "[CV 2/10; 5/7] END ........................C=10;, score=0.992 total time=   3.5s\n",
      "[CV 10/10; 5/7] START C=10......................................................\n",
      "[CV 4/10; 5/7] END ........................C=10;, score=0.992 total time=   3.9s\n",
      "[CV 1/10; 6/7] START C=100......................................................\n",
      "[CV 3/10; 5/7] END ........................C=10;, score=0.995 total time=   4.2s\n"
     ]
    },
    {
     "name": "stderr",
     "output_type": "stream",
     "text": [
      "/Users/bunbun/anaconda3/lib/python3.11/site-packages/sklearn/linear_model/_logistic.py:460: ConvergenceWarning: lbfgs failed to converge (status=1):\n",
      "STOP: TOTAL NO. of ITERATIONS REACHED LIMIT.\n",
      "\n",
      "Increase the number of iterations (max_iter) or scale the data as shown in:\n",
      "    https://scikit-learn.org/stable/modules/preprocessing.html\n",
      "Please also refer to the documentation for alternative solver options:\n",
      "    https://scikit-learn.org/stable/modules/linear_model.html#logistic-regression\n",
      "  n_iter_i = _check_optimize_result(\n"
     ]
    },
    {
     "name": "stdout",
     "output_type": "stream",
     "text": [
      "[CV 2/10; 6/7] START C=100......................................................\n",
      "[CV 5/10; 5/7] END ........................C=10;, score=0.992 total time=   3.9s\n",
      "[CV 3/10; 6/7] START C=100......................................................\n",
      "[CV 6/10; 5/7] END ........................C=10;, score=0.992 total time=   3.6s\n",
      "[CV 4/10; 6/7] START C=100......................................................\n",
      "[CV 7/10; 5/7] END ........................C=10;, score=0.999 total time=   3.5s\n",
      "[CV 5/10; 6/7] START C=100......................................................\n"
     ]
    },
    {
     "name": "stderr",
     "output_type": "stream",
     "text": [
      "/Users/bunbun/anaconda3/lib/python3.11/site-packages/sklearn/linear_model/_logistic.py:460: ConvergenceWarning: lbfgs failed to converge (status=1):\n",
      "STOP: TOTAL NO. of ITERATIONS REACHED LIMIT.\n",
      "\n",
      "Increase the number of iterations (max_iter) or scale the data as shown in:\n",
      "    https://scikit-learn.org/stable/modules/preprocessing.html\n",
      "Please also refer to the documentation for alternative solver options:\n",
      "    https://scikit-learn.org/stable/modules/linear_model.html#logistic-regression\n",
      "  n_iter_i = _check_optimize_result(\n"
     ]
    },
    {
     "name": "stdout",
     "output_type": "stream",
     "text": [
      "[CV 8/10; 5/7] END ........................C=10;, score=0.992 total time=   3.9s\n",
      "[CV 6/10; 6/7] START C=100......................................................\n",
      "[CV 9/10; 5/7] END ........................C=10;, score=0.996 total time=   3.3s\n",
      "[CV 7/10; 6/7] START C=100......................................................\n",
      "[CV 10/10; 5/7] END .......................C=10;, score=0.995 total time=   3.8s\n",
      "[CV 8/10; 6/7] START C=100......................................................\n"
     ]
    },
    {
     "name": "stderr",
     "output_type": "stream",
     "text": [
      "/Users/bunbun/anaconda3/lib/python3.11/site-packages/sklearn/linear_model/_logistic.py:460: ConvergenceWarning: lbfgs failed to converge (status=1):\n",
      "STOP: TOTAL NO. of ITERATIONS REACHED LIMIT.\n",
      "\n",
      "Increase the number of iterations (max_iter) or scale the data as shown in:\n",
      "    https://scikit-learn.org/stable/modules/preprocessing.html\n",
      "Please also refer to the documentation for alternative solver options:\n",
      "    https://scikit-learn.org/stable/modules/linear_model.html#logistic-regression\n",
      "  n_iter_i = _check_optimize_result(\n",
      "/Users/bunbun/anaconda3/lib/python3.11/site-packages/sklearn/linear_model/_logistic.py:460: ConvergenceWarning: lbfgs failed to converge (status=1):\n",
      "STOP: TOTAL NO. of ITERATIONS REACHED LIMIT.\n",
      "\n",
      "Increase the number of iterations (max_iter) or scale the data as shown in:\n",
      "    https://scikit-learn.org/stable/modules/preprocessing.html\n",
      "Please also refer to the documentation for alternative solver options:\n",
      "    https://scikit-learn.org/stable/modules/linear_model.html#logistic-regression\n",
      "  n_iter_i = _check_optimize_result(\n"
     ]
    },
    {
     "name": "stdout",
     "output_type": "stream",
     "text": [
      "[CV 1/10; 6/7] END .......................C=100;, score=0.996 total time=   3.8s\n",
      "[CV 9/10; 6/7] START C=100......................................................\n",
      "[CV 2/10; 6/7] END .......................C=100;, score=0.994 total time=   3.7s\n",
      "[CV 10/10; 6/7] START C=100.....................................................\n"
     ]
    },
    {
     "name": "stderr",
     "output_type": "stream",
     "text": [
      "/Users/bunbun/anaconda3/lib/python3.11/site-packages/sklearn/linear_model/_logistic.py:460: ConvergenceWarning: lbfgs failed to converge (status=1):\n",
      "STOP: TOTAL NO. of ITERATIONS REACHED LIMIT.\n",
      "\n",
      "Increase the number of iterations (max_iter) or scale the data as shown in:\n",
      "    https://scikit-learn.org/stable/modules/preprocessing.html\n",
      "Please also refer to the documentation for alternative solver options:\n",
      "    https://scikit-learn.org/stable/modules/linear_model.html#logistic-regression\n",
      "  n_iter_i = _check_optimize_result(\n",
      "/Users/bunbun/anaconda3/lib/python3.11/site-packages/sklearn/linear_model/_logistic.py:460: ConvergenceWarning: lbfgs failed to converge (status=1):\n",
      "STOP: TOTAL NO. of ITERATIONS REACHED LIMIT.\n",
      "\n",
      "Increase the number of iterations (max_iter) or scale the data as shown in:\n",
      "    https://scikit-learn.org/stable/modules/preprocessing.html\n",
      "Please also refer to the documentation for alternative solver options:\n",
      "    https://scikit-learn.org/stable/modules/linear_model.html#logistic-regression\n",
      "  n_iter_i = _check_optimize_result(\n",
      "/Users/bunbun/anaconda3/lib/python3.11/site-packages/sklearn/linear_model/_logistic.py:460: ConvergenceWarning: lbfgs failed to converge (status=1):\n",
      "STOP: TOTAL NO. of ITERATIONS REACHED LIMIT.\n",
      "\n",
      "Increase the number of iterations (max_iter) or scale the data as shown in:\n",
      "    https://scikit-learn.org/stable/modules/preprocessing.html\n",
      "Please also refer to the documentation for alternative solver options:\n",
      "    https://scikit-learn.org/stable/modules/linear_model.html#logistic-regression\n",
      "  n_iter_i = _check_optimize_result(\n"
     ]
    },
    {
     "name": "stdout",
     "output_type": "stream",
     "text": [
      "[CV 3/10; 6/7] END .......................C=100;, score=0.997 total time=   3.9s\n",
      "[CV 1/10; 7/7] START C=1000.....................................................\n",
      "[CV 4/10; 6/7] END .......................C=100;, score=0.994 total time=   4.0s\n",
      "[CV 5/10; 6/7] END .......................C=100;, score=0.994 total time=   3.8s\n",
      "[CV 2/10; 7/7] START C=1000.....................................................\n",
      "[CV 3/10; 7/7] START C=1000.....................................................\n"
     ]
    },
    {
     "name": "stderr",
     "output_type": "stream",
     "text": [
      "/Users/bunbun/anaconda3/lib/python3.11/site-packages/sklearn/linear_model/_logistic.py:460: ConvergenceWarning: lbfgs failed to converge (status=1):\n",
      "STOP: TOTAL NO. of ITERATIONS REACHED LIMIT.\n",
      "\n",
      "Increase the number of iterations (max_iter) or scale the data as shown in:\n",
      "    https://scikit-learn.org/stable/modules/preprocessing.html\n",
      "Please also refer to the documentation for alternative solver options:\n",
      "    https://scikit-learn.org/stable/modules/linear_model.html#logistic-regression\n",
      "  n_iter_i = _check_optimize_result(\n"
     ]
    },
    {
     "name": "stdout",
     "output_type": "stream",
     "text": [
      "[CV 6/10; 6/7] END .......................C=100;, score=0.994 total time=   4.3s\n",
      "[CV 4/10; 7/7] START C=1000.....................................................\n"
     ]
    },
    {
     "name": "stderr",
     "output_type": "stream",
     "text": [
      "/Users/bunbun/anaconda3/lib/python3.11/site-packages/sklearn/linear_model/_logistic.py:460: ConvergenceWarning: lbfgs failed to converge (status=1):\n",
      "STOP: TOTAL NO. of ITERATIONS REACHED LIMIT.\n",
      "\n",
      "Increase the number of iterations (max_iter) or scale the data as shown in:\n",
      "    https://scikit-learn.org/stable/modules/preprocessing.html\n",
      "Please also refer to the documentation for alternative solver options:\n",
      "    https://scikit-learn.org/stable/modules/linear_model.html#logistic-regression\n",
      "  n_iter_i = _check_optimize_result(\n"
     ]
    },
    {
     "name": "stdout",
     "output_type": "stream",
     "text": [
      "[CV 7/10; 6/7] END .......................C=100;, score=0.998 total time=   4.0s\n",
      "[CV 5/10; 7/7] START C=1000.....................................................\n"
     ]
    },
    {
     "name": "stderr",
     "output_type": "stream",
     "text": [
      "/Users/bunbun/anaconda3/lib/python3.11/site-packages/sklearn/linear_model/_logistic.py:460: ConvergenceWarning: lbfgs failed to converge (status=1):\n",
      "STOP: TOTAL NO. of ITERATIONS REACHED LIMIT.\n",
      "\n",
      "Increase the number of iterations (max_iter) or scale the data as shown in:\n",
      "    https://scikit-learn.org/stable/modules/preprocessing.html\n",
      "Please also refer to the documentation for alternative solver options:\n",
      "    https://scikit-learn.org/stable/modules/linear_model.html#logistic-regression\n",
      "  n_iter_i = _check_optimize_result(\n"
     ]
    },
    {
     "name": "stdout",
     "output_type": "stream",
     "text": [
      "[CV 8/10; 6/7] END .......................C=100;, score=0.994 total time=   3.8s\n",
      "[CV 6/10; 7/7] START C=1000.....................................................\n"
     ]
    },
    {
     "name": "stderr",
     "output_type": "stream",
     "text": [
      "/Users/bunbun/anaconda3/lib/python3.11/site-packages/sklearn/linear_model/_logistic.py:460: ConvergenceWarning: lbfgs failed to converge (status=1):\n",
      "STOP: TOTAL NO. of ITERATIONS REACHED LIMIT.\n",
      "\n",
      "Increase the number of iterations (max_iter) or scale the data as shown in:\n",
      "    https://scikit-learn.org/stable/modules/preprocessing.html\n",
      "Please also refer to the documentation for alternative solver options:\n",
      "    https://scikit-learn.org/stable/modules/linear_model.html#logistic-regression\n",
      "  n_iter_i = _check_optimize_result(\n",
      "/Users/bunbun/anaconda3/lib/python3.11/site-packages/sklearn/linear_model/_logistic.py:460: ConvergenceWarning: lbfgs failed to converge (status=1):\n",
      "STOP: TOTAL NO. of ITERATIONS REACHED LIMIT.\n",
      "\n",
      "Increase the number of iterations (max_iter) or scale the data as shown in:\n",
      "    https://scikit-learn.org/stable/modules/preprocessing.html\n",
      "Please also refer to the documentation for alternative solver options:\n",
      "    https://scikit-learn.org/stable/modules/linear_model.html#logistic-regression\n",
      "  n_iter_i = _check_optimize_result(\n"
     ]
    },
    {
     "name": "stdout",
     "output_type": "stream",
     "text": [
      "[CV 10/10; 6/7] END ......................C=100;, score=0.997 total time=   3.8s\n",
      "[CV 9/10; 6/7] END .......................C=100;, score=0.996 total time=   3.9s\n",
      "[CV 7/10; 7/7] START C=1000.....................................................\n",
      "[CV 8/10; 7/7] START C=1000.....................................................\n"
     ]
    },
    {
     "name": "stderr",
     "output_type": "stream",
     "text": [
      "/Users/bunbun/anaconda3/lib/python3.11/site-packages/sklearn/linear_model/_logistic.py:460: ConvergenceWarning: lbfgs failed to converge (status=1):\n",
      "STOP: TOTAL NO. of ITERATIONS REACHED LIMIT.\n",
      "\n",
      "Increase the number of iterations (max_iter) or scale the data as shown in:\n",
      "    https://scikit-learn.org/stable/modules/preprocessing.html\n",
      "Please also refer to the documentation for alternative solver options:\n",
      "    https://scikit-learn.org/stable/modules/linear_model.html#logistic-regression\n",
      "  n_iter_i = _check_optimize_result(\n",
      "/Users/bunbun/anaconda3/lib/python3.11/site-packages/sklearn/linear_model/_logistic.py:460: ConvergenceWarning: lbfgs failed to converge (status=1):\n",
      "STOP: TOTAL NO. of ITERATIONS REACHED LIMIT.\n",
      "\n",
      "Increase the number of iterations (max_iter) or scale the data as shown in:\n",
      "    https://scikit-learn.org/stable/modules/preprocessing.html\n",
      "Please also refer to the documentation for alternative solver options:\n",
      "    https://scikit-learn.org/stable/modules/linear_model.html#logistic-regression\n",
      "  n_iter_i = _check_optimize_result(\n",
      "/Users/bunbun/anaconda3/lib/python3.11/site-packages/sklearn/linear_model/_logistic.py:460: ConvergenceWarning: lbfgs failed to converge (status=1):\n",
      "STOP: TOTAL NO. of ITERATIONS REACHED LIMIT.\n",
      "\n",
      "Increase the number of iterations (max_iter) or scale the data as shown in:\n",
      "    https://scikit-learn.org/stable/modules/preprocessing.html\n",
      "Please also refer to the documentation for alternative solver options:\n",
      "    https://scikit-learn.org/stable/modules/linear_model.html#logistic-regression\n",
      "  n_iter_i = _check_optimize_result(\n"
     ]
    },
    {
     "name": "stdout",
     "output_type": "stream",
     "text": [
      "[CV 1/10; 7/7] END ......................C=1000;, score=0.996 total time=   4.0s\n",
      "[CV 9/10; 7/7] START C=1000.....................................................\n",
      "[CV 3/10; 7/7] END ......................C=1000;, score=0.997 total time=   4.0s\n",
      "[CV 2/10; 7/7] END ......................C=1000;, score=0.996 total time=   4.0s\n",
      "[CV 10/10; 7/7] START C=1000....................................................\n"
     ]
    },
    {
     "name": "stderr",
     "output_type": "stream",
     "text": [
      "/Users/bunbun/anaconda3/lib/python3.11/site-packages/sklearn/linear_model/_logistic.py:460: ConvergenceWarning: lbfgs failed to converge (status=1):\n",
      "STOP: TOTAL NO. of ITERATIONS REACHED LIMIT.\n",
      "\n",
      "Increase the number of iterations (max_iter) or scale the data as shown in:\n",
      "    https://scikit-learn.org/stable/modules/preprocessing.html\n",
      "Please also refer to the documentation for alternative solver options:\n",
      "    https://scikit-learn.org/stable/modules/linear_model.html#logistic-regression\n",
      "  n_iter_i = _check_optimize_result(\n",
      "/Users/bunbun/anaconda3/lib/python3.11/site-packages/sklearn/linear_model/_logistic.py:460: ConvergenceWarning: lbfgs failed to converge (status=1):\n",
      "STOP: TOTAL NO. of ITERATIONS REACHED LIMIT.\n",
      "\n",
      "Increase the number of iterations (max_iter) or scale the data as shown in:\n",
      "    https://scikit-learn.org/stable/modules/preprocessing.html\n",
      "Please also refer to the documentation for alternative solver options:\n",
      "    https://scikit-learn.org/stable/modules/linear_model.html#logistic-regression\n",
      "  n_iter_i = _check_optimize_result(\n"
     ]
    },
    {
     "name": "stdout",
     "output_type": "stream",
     "text": [
      "[CV 4/10; 7/7] END ......................C=1000;, score=0.994 total time=   3.8s\n",
      "[CV 5/10; 7/7] END ......................C=1000;, score=0.995 total time=   3.7s\n"
     ]
    },
    {
     "name": "stderr",
     "output_type": "stream",
     "text": [
      "/Users/bunbun/anaconda3/lib/python3.11/site-packages/sklearn/linear_model/_logistic.py:460: ConvergenceWarning: lbfgs failed to converge (status=1):\n",
      "STOP: TOTAL NO. of ITERATIONS REACHED LIMIT.\n",
      "\n",
      "Increase the number of iterations (max_iter) or scale the data as shown in:\n",
      "    https://scikit-learn.org/stable/modules/preprocessing.html\n",
      "Please also refer to the documentation for alternative solver options:\n",
      "    https://scikit-learn.org/stable/modules/linear_model.html#logistic-regression\n",
      "  n_iter_i = _check_optimize_result(\n"
     ]
    },
    {
     "name": "stdout",
     "output_type": "stream",
     "text": [
      "[CV 6/10; 7/7] END ......................C=1000;, score=0.993 total time=   3.5s\n"
     ]
    },
    {
     "name": "stderr",
     "output_type": "stream",
     "text": [
      "/Users/bunbun/anaconda3/lib/python3.11/site-packages/sklearn/linear_model/_logistic.py:460: ConvergenceWarning: lbfgs failed to converge (status=1):\n",
      "STOP: TOTAL NO. of ITERATIONS REACHED LIMIT.\n",
      "\n",
      "Increase the number of iterations (max_iter) or scale the data as shown in:\n",
      "    https://scikit-learn.org/stable/modules/preprocessing.html\n",
      "Please also refer to the documentation for alternative solver options:\n",
      "    https://scikit-learn.org/stable/modules/linear_model.html#logistic-regression\n",
      "  n_iter_i = _check_optimize_result(\n",
      "/Users/bunbun/anaconda3/lib/python3.11/site-packages/sklearn/linear_model/_logistic.py:460: ConvergenceWarning: lbfgs failed to converge (status=1):\n",
      "STOP: TOTAL NO. of ITERATIONS REACHED LIMIT.\n",
      "\n",
      "Increase the number of iterations (max_iter) or scale the data as shown in:\n",
      "    https://scikit-learn.org/stable/modules/preprocessing.html\n",
      "Please also refer to the documentation for alternative solver options:\n",
      "    https://scikit-learn.org/stable/modules/linear_model.html#logistic-regression\n",
      "  n_iter_i = _check_optimize_result(\n"
     ]
    },
    {
     "name": "stdout",
     "output_type": "stream",
     "text": [
      "[CV 8/10; 7/7] END ......................C=1000;, score=0.994 total time=   3.1s\n",
      "[CV 7/10; 7/7] END ......................C=1000;, score=0.998 total time=   3.2s\n"
     ]
    },
    {
     "name": "stderr",
     "output_type": "stream",
     "text": [
      "/Users/bunbun/anaconda3/lib/python3.11/site-packages/sklearn/linear_model/_logistic.py:460: ConvergenceWarning: lbfgs failed to converge (status=1):\n",
      "STOP: TOTAL NO. of ITERATIONS REACHED LIMIT.\n",
      "\n",
      "Increase the number of iterations (max_iter) or scale the data as shown in:\n",
      "    https://scikit-learn.org/stable/modules/preprocessing.html\n",
      "Please also refer to the documentation for alternative solver options:\n",
      "    https://scikit-learn.org/stable/modules/linear_model.html#logistic-regression\n",
      "  n_iter_i = _check_optimize_result(\n",
      "/Users/bunbun/anaconda3/lib/python3.11/site-packages/sklearn/linear_model/_logistic.py:460: ConvergenceWarning: lbfgs failed to converge (status=1):\n",
      "STOP: TOTAL NO. of ITERATIONS REACHED LIMIT.\n",
      "\n",
      "Increase the number of iterations (max_iter) or scale the data as shown in:\n",
      "    https://scikit-learn.org/stable/modules/preprocessing.html\n",
      "Please also refer to the documentation for alternative solver options:\n",
      "    https://scikit-learn.org/stable/modules/linear_model.html#logistic-regression\n",
      "  n_iter_i = _check_optimize_result(\n"
     ]
    },
    {
     "name": "stdout",
     "output_type": "stream",
     "text": [
      "[CV 9/10; 7/7] END ......................C=1000;, score=0.997 total time=   2.7s\n",
      "[CV 10/10; 7/7] END .....................C=1000;, score=0.998 total time=   2.6s\n",
      "\tC: 1000\n"
     ]
    },
    {
     "name": "stderr",
     "output_type": "stream",
     "text": [
      "/Users/bunbun/anaconda3/lib/python3.11/site-packages/sklearn/linear_model/_logistic.py:460: ConvergenceWarning: lbfgs failed to converge (status=1):\n",
      "STOP: TOTAL NO. of ITERATIONS REACHED LIMIT.\n",
      "\n",
      "Increase the number of iterations (max_iter) or scale the data as shown in:\n",
      "    https://scikit-learn.org/stable/modules/preprocessing.html\n",
      "Please also refer to the documentation for alternative solver options:\n",
      "    https://scikit-learn.org/stable/modules/linear_model.html#logistic-regression\n",
      "  n_iter_i = _check_optimize_result(\n"
     ]
    }
   ],
   "source": [
    "# do a grid search on logistic regression\n",
    "param_grid = {'C': [0.001, 0.01, 0.1, 1, 10, 100, 1000]}\n",
    "# Initialize Grid Search Model\n",
    "model = GridSearchCV(estimator=LogisticRegression(), param_grid=param_grid, scoring='f1',\n",
    "                                 verbose=10, n_jobs=-1, refit=True, cv=10)\n",
    "model.fit(X_train,y_train)  # we can use the full data here but im only using xtrain. \n",
    "best_parameters = model.best_estimator_.get_params()\n",
    "for param_name in sorted(param_grid.keys()):\n",
    "    print(\"\\t%s: %r\" % (param_name, best_parameters[param_name]))"
   ]
  },
  {
   "cell_type": "code",
   "execution_count": 25,
   "metadata": {},
   "outputs": [
    {
     "data": {
      "text/plain": [
       "{'C': 1000,\n",
       " 'class_weight': None,\n",
       " 'dual': False,\n",
       " 'fit_intercept': True,\n",
       " 'intercept_scaling': 1,\n",
       " 'l1_ratio': None,\n",
       " 'max_iter': 100,\n",
       " 'multi_class': 'auto',\n",
       " 'n_jobs': None,\n",
       " 'penalty': 'l2',\n",
       " 'random_state': None,\n",
       " 'solver': 'lbfgs',\n",
       " 'tol': 0.0001,\n",
       " 'verbose': 0,\n",
       " 'warm_start': False}"
      ]
     },
     "execution_count": 25,
     "metadata": {},
     "output_type": "execute_result"
    }
   ],
   "source": [
    "best_parameters"
   ]
  },
  {
   "cell_type": "code",
   "execution_count": 10,
   "metadata": {},
   "outputs": [],
   "source": [
    "best_parameters = {'C': 1000,\n",
    " 'class_weight': None,\n",
    " 'dual': False,\n",
    " 'fit_intercept': True,\n",
    " 'intercept_scaling': 1,\n",
    " 'l1_ratio': None,\n",
    " 'max_iter': 100,\n",
    " 'multi_class': 'auto',\n",
    " 'n_jobs': None,\n",
    " 'penalty': 'l2',\n",
    " 'random_state': None,\n",
    " 'solver': 'lbfgs',\n",
    " 'tol': 0.0001,\n",
    " 'verbose': 0,\n",
    " 'warm_start': False}"
   ]
  },
  {
   "cell_type": "code",
   "execution_count": 12,
   "metadata": {},
   "outputs": [
    {
     "name": "stdout",
     "output_type": "stream",
     "text": [
      "Accuracy: 0.9959979989994997\n"
     ]
    },
    {
     "name": "stderr",
     "output_type": "stream",
     "text": [
      "c:\\ProgramData\\anaconda3\\Lib\\site-packages\\sklearn\\linear_model\\_logistic.py:460: ConvergenceWarning: lbfgs failed to converge (status=1):\n",
      "STOP: TOTAL NO. of ITERATIONS REACHED LIMIT.\n",
      "\n",
      "Increase the number of iterations (max_iter) or scale the data as shown in:\n",
      "    https://scikit-learn.org/stable/modules/preprocessing.html\n",
      "Please also refer to the documentation for alternative solver options:\n",
      "    https://scikit-learn.org/stable/modules/linear_model.html#logistic-regression\n",
      "  n_iter_i = _check_optimize_result(\n"
     ]
    }
   ],
   "source": [
    "from sklearn.linear_model import LogisticRegression\n",
    "from sklearn.metrics import accuracy_score\n",
    "best_model = LogisticRegression(**best_parameters)\n",
    "best_model.fit(X_train, y_train)\n",
    "predictions = best_model.predict(X_test)\n",
    "\n",
    "# Calculate accuracy\n",
    "accuracy = accuracy_score(y_test, predictions)\n",
    "print(f'Accuracy: {accuracy}')"
   ]
  },
  {
   "cell_type": "code",
   "execution_count": 13,
   "metadata": {},
   "outputs": [
    {
     "name": "stdout",
     "output_type": "stream",
     "text": [
      "[[1989   10]\n",
      " [   6 1993]]\n"
     ]
    }
   ],
   "source": [
    "# confusion matrix\n",
    "print(confusion_matrix(y_test, predictions))"
   ]
  },
  {
   "cell_type": "markdown",
   "metadata": {},
   "source": [
    "countvec work better w/ NB. log work well w/ tf"
   ]
  },
  {
   "cell_type": "markdown",
   "metadata": {},
   "source": [
    "We now tell gpt4 to generate 10 essays based on prompt in train data. successfully detected all essays."
   ]
  },
  {
   "cell_type": "code",
   "execution_count": 27,
   "metadata": {},
   "outputs": [
    {
     "name": "stdout",
     "output_type": "stream",
     "text": [
      "[1 1 1 1 1 1 1 1 1]\n"
     ]
    }
   ],
   "source": [
    "gpt = pd.read_csv('test_gpt.csv')\n",
    "gpt = vectorizer.transform(gpt['text'])\n",
    "gpt_pred = best_model.predict(gpt)\n",
    "print(gpt_pred)"
   ]
  },
  {
   "cell_type": "code",
   "execution_count": 44,
   "metadata": {},
   "outputs": [
    {
     "name": "stdout",
     "output_type": "stream",
     "text": [
      "0.6\n"
     ]
    }
   ],
   "source": [
    "gpt = pd.read_csv('gpt_morehuman.csv')\n",
    "gpt = vectorizer.transform(gpt['text'])\n",
    "gpt_pred = best_model.predict(gpt)\n",
    "print(sum(gpt_pred)/10)"
   ]
  },
  {
   "cell_type": "markdown",
   "metadata": {},
   "source": [
    "when we tell gpt4 to act more human and less robotic, it significantly decreased our accuracy."
   ]
  },
  {
   "cell_type": "code",
   "execution_count": 47,
   "metadata": {},
   "outputs": [
    {
     "data": {
      "text/html": [
       "<div>\n",
       "<style scoped>\n",
       "    .dataframe tbody tr th:only-of-type {\n",
       "        vertical-align: middle;\n",
       "    }\n",
       "\n",
       "    .dataframe tbody tr th {\n",
       "        vertical-align: top;\n",
       "    }\n",
       "\n",
       "    .dataframe thead th {\n",
       "        text-align: right;\n",
       "    }\n",
       "</style>\n",
       "<table border=\"1\" class=\"dataframe\">\n",
       "  <thead>\n",
       "    <tr style=\"text-align: right;\">\n",
       "      <th></th>\n",
       "      <th>label</th>\n",
       "      <th>fold</th>\n",
       "      <th>lda_topic</th>\n",
       "    </tr>\n",
       "  </thead>\n",
       "  <tbody>\n",
       "    <tr>\n",
       "      <th>count</th>\n",
       "      <td>39785.000000</td>\n",
       "      <td>39785.000000</td>\n",
       "      <td>39785.000000</td>\n",
       "    </tr>\n",
       "    <tr>\n",
       "      <th>mean</th>\n",
       "      <td>0.251175</td>\n",
       "      <td>4.499686</td>\n",
       "      <td>1.476838</td>\n",
       "    </tr>\n",
       "    <tr>\n",
       "      <th>std</th>\n",
       "      <td>0.433694</td>\n",
       "      <td>2.872317</td>\n",
       "      <td>0.691451</td>\n",
       "    </tr>\n",
       "    <tr>\n",
       "      <th>min</th>\n",
       "      <td>0.000000</td>\n",
       "      <td>0.000000</td>\n",
       "      <td>0.000000</td>\n",
       "    </tr>\n",
       "    <tr>\n",
       "      <th>25%</th>\n",
       "      <td>0.000000</td>\n",
       "      <td>2.000000</td>\n",
       "      <td>1.000000</td>\n",
       "    </tr>\n",
       "    <tr>\n",
       "      <th>50%</th>\n",
       "      <td>0.000000</td>\n",
       "      <td>4.000000</td>\n",
       "      <td>2.000000</td>\n",
       "    </tr>\n",
       "    <tr>\n",
       "      <th>75%</th>\n",
       "      <td>1.000000</td>\n",
       "      <td>7.000000</td>\n",
       "      <td>2.000000</td>\n",
       "    </tr>\n",
       "    <tr>\n",
       "      <th>max</th>\n",
       "      <td>1.000000</td>\n",
       "      <td>9.000000</td>\n",
       "      <td>2.000000</td>\n",
       "    </tr>\n",
       "  </tbody>\n",
       "</table>\n",
       "</div>"
      ],
      "text/plain": [
       "              label          fold     lda_topic\n",
       "count  39785.000000  39785.000000  39785.000000\n",
       "mean       0.251175      4.499686      1.476838\n",
       "std        0.433694      2.872317      0.691451\n",
       "min        0.000000      0.000000      0.000000\n",
       "25%        0.000000      2.000000      1.000000\n",
       "50%        0.000000      4.000000      2.000000\n",
       "75%        1.000000      7.000000      2.000000\n",
       "max        1.000000      9.000000      2.000000"
      ]
     },
     "execution_count": 47,
     "metadata": {},
     "output_type": "execute_result"
    }
   ],
   "source": [
    "test_lda_1 = pd.read_csv('train_drcat_lda.csv')\n",
    "test_lda_1.describe()"
   ]
  },
  {
   "cell_type": "code",
   "execution_count": 46,
   "metadata": {},
   "outputs": [
    {
     "name": "stdout",
     "output_type": "stream",
     "text": [
      "accuracy = 0.9967827070503958\n"
     ]
    }
   ],
   "source": [
    "test_lda = vectorizer.transform(test_lda_1['text'])\n",
    "test_lda_pred = best_model.predict(test_lda)\n",
    "print('accuracy =',accuracy_score(test_lda_1['label'], test_lda_pred))"
   ]
  },
  {
   "cell_type": "code",
   "execution_count": 51,
   "metadata": {},
   "outputs": [
    {
     "name": "stdout",
     "output_type": "stream",
     "text": [
      "lda_topic: 0 accuary: 0.9997801231310466\n",
      "lda_topic: 1 accuary: 0.9985492404847244\n",
      "lda_topic: 2 accuary: 0.9953229303967005\n"
     ]
    }
   ],
   "source": [
    "# test in different lda_topic\n",
    "lda_range = [0,1,2]\n",
    "for i in lda_range:\n",
    "    test_lda_data = pd.read_csv('train_drcat_lda.csv')\n",
    "    test_lda_slice = test_lda_data[test_lda_data['lda_topic'] == i]\n",
    "    test_lda = vectorizer.transform(test_lda_slice['text'])\n",
    "    test_lda_pred = best_model.predict(test_lda)\n",
    "    print('lda_topic:', i, 'accuary:', accuracy_score(test_lda_slice['label'], test_lda_pred))"
   ]
  }
 ],
 "metadata": {
  "kernelspec": {
   "display_name": "base",
   "language": "python",
   "name": "python3"
  },
  "language_info": {
   "codemirror_mode": {
    "name": "ipython",
    "version": 3
   },
   "file_extension": ".py",
   "mimetype": "text/x-python",
   "name": "python",
   "nbconvert_exporter": "python",
   "pygments_lexer": "ipython3",
   "version": "3.11.5"
  }
 },
 "nbformat": 4,
 "nbformat_minor": 2
}
